{
 "cells": [
  {
   "cell_type": "code",
   "execution_count": null,
   "id": "0",
   "metadata": {},
   "outputs": [],
   "source": [
    "import matplotlib.pyplot as plt\n",
    "import numpy as np"
   ]
  },
  {
   "cell_type": "markdown",
   "id": "1",
   "metadata": {},
   "source": [
    "Cell order is left first, then goes clockwise around the center."
   ]
  },
  {
   "cell_type": "code",
   "execution_count": null,
   "id": "2",
   "metadata": {},
   "outputs": [],
   "source": [
    "x = np.array([-1, -1, 0, 1, 1, 1, 0, -1])\n",
    "y = np.array([0, 1, 1, 1, 0, -1, -1, -1])\n",
    "c = np.arange(8)\n",
    "\n",
    "arr = np.full(shape=(3, 3), fill_value=np.nan)\n",
    "arr[y + 1, x + 1] = c\n",
    "\n",
    "plt.imshow(X=arr, cmap=\"Pastel1\", origin=\"upper\")\n",
    "plt.colorbar()"
   ]
  },
  {
   "cell_type": "code",
   "execution_count": null,
   "id": "3",
   "metadata": {},
   "outputs": [],
   "source": [
    "x + 1"
   ]
  },
  {
   "cell_type": "code",
   "execution_count": null,
   "id": "4",
   "metadata": {},
   "outputs": [],
   "source": [
    "y + 1"
   ]
  },
  {
   "cell_type": "code",
   "execution_count": null,
   "id": "5",
   "metadata": {},
   "outputs": [],
   "source": [
    "def generate_offsets(ring):\n",
    "    steps = [(0, 1), (1, 0), (0, -1), (-1, 0), (0, 1)]\n",
    "    cx = 0\n",
    "    cy = 0\n",
    "\n",
    "    for c in range(ring + 1):\n",
    "        # 1: go c steps to the left and yield\n",
    "        # 2: turn right\n",
    "        # 3: go 1 step at a time while yielding, until we reach the maximum distance\n",
    "        # 4: repeat 2 and 3 until we turned 4 times\n",
    "        # 5: go up until just before we reached the first point\n",
    "        x = cx - c\n",
    "        y = cy - 0\n",
    "\n",
    "        yield x, y\n",
    "\n",
    "        if c == 0:\n",
    "            continue\n",
    "\n",
    "        for index, (sx, sy) in enumerate(steps):\n",
    "            if index == 0:\n",
    "                n_steps = c\n",
    "            elif index == 4:\n",
    "                n_steps = c - 1\n",
    "            else:\n",
    "                n_steps = 2 * c\n",
    "\n",
    "            for _ in range(n_steps):\n",
    "                x = x + sx\n",
    "                y = y + sy\n",
    "\n",
    "                yield (x, y)"
   ]
  },
  {
   "cell_type": "code",
   "execution_count": null,
   "id": "6",
   "metadata": {},
   "outputs": [],
   "source": [
    "%%time\n",
    "len(list(generate_offsets(ring=200)))"
   ]
  }
 ],
 "metadata": {
  "language_info": {
   "codemirror_mode": {
    "name": "ipython",
    "version": 3
   },
   "file_extension": ".py",
   "mimetype": "text/x-python",
   "name": "python",
   "nbconvert_exporter": "python",
   "pygments_lexer": "ipython3"
  }
 },
 "nbformat": 4,
 "nbformat_minor": 5
}
