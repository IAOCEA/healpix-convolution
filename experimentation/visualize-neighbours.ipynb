{
 "cells": [
  {
   "cell_type": "code",
   "execution_count": null,
   "id": "0",
   "metadata": {},
   "outputs": [],
   "source": [
    "import geopandas as gpd\n",
    "import healpy as hp\n",
    "import numpy as np\n",
    "import pandas as pd\n",
    "import shapely\n",
    "\n",
    "import healpix_convolution.neighbours as nb"
   ]
  },
  {
   "cell_type": "code",
   "execution_count": null,
   "id": "1",
   "metadata": {},
   "outputs": [],
   "source": [
    "def boundary_vectors(nside, nest, cell_ids):\n",
    "    flattened = np.reshape(cell_ids, -1)\n",
    "\n",
    "    vertex_vectors = hp.boundaries(nside, flattened, nest=nest)\n",
    "\n",
    "    reshaped = np.reshape(vertex_vectors, cell_ids.shape + vertex_vectors.shape[1:])\n",
    "\n",
    "    return np.moveaxis(reshaped, -2, -1)\n",
    "\n",
    "\n",
    "def vectors_to_geographic(vectors):\n",
    "    lon, lat = hp.vec2ang(vectors, lonlat=True)\n",
    "\n",
    "    lon_ = np.reshape(lon, vectors.shape[:-1])\n",
    "    lat_ = np.reshape(lat, vectors.shape[:-1])\n",
    "\n",
    "    return lon_, lat_"
   ]
  },
  {
   "cell_type": "code",
   "execution_count": null,
   "id": "2",
   "metadata": {},
   "outputs": [],
   "source": [
    "def visualize_cells(cell_ids, resolution, indexing_scheme):\n",
    "    flattened = np.reshape(cell_ids, -1)\n",
    "\n",
    "    boundary_vecs = boundary_vectors(\n",
    "        2**resolution, indexing_scheme == \"nested\", flattened\n",
    "    )\n",
    "    boundaries = np.stack(vectors_to_geographic(boundary_vecs), axis=-1)\n",
    "    polygons = shapely.polygons(boundaries)\n",
    "\n",
    "    df = gpd.GeoDataFrame(index=flattened, geometry=polygons, crs=4326)\n",
    "    return df"
   ]
  },
  {
   "cell_type": "code",
   "execution_count": null,
   "id": "3",
   "metadata": {},
   "outputs": [],
   "source": [
    "import folium"
   ]
  },
  {
   "cell_type": "code",
   "execution_count": null,
   "id": "4",
   "metadata": {},
   "outputs": [],
   "source": [
    "def visualize_neighbours(neighbours, resolution, indexing_scheme):\n",
    "    nside = 2**resolution\n",
    "    nest = indexing_scheme == \"nested\"\n",
    "    vectors = boundary_vectors(nside, nest, neighbours)\n",
    "    boundaries = np.stack(vectors_to_geographic(vectors), axis=-1)\n",
    "    polygons = shapely.polygons(boundaries)\n",
    "\n",
    "    centers = polygons[:, 0]\n",
    "    n_ = polygons[:, 1:]\n",
    "\n",
    "    m = folium.Map()\n",
    "\n",
    "    for polygon, cell_id in zip(np.ravel(centers), np.ravel(neighbours[:, 0])):\n",
    "        if cell_id == -1:\n",
    "            continue\n",
    "        folium.GeoJson(\n",
    "            shapely.to_geojson(polygon),\n",
    "            tooltip=f\"cell id: {cell_id}\",\n",
    "        ).add_to(m)\n",
    "\n",
    "    for polygon, cell_id in zip(np.ravel(n_), np.ravel(neighbours[:, 1:])):\n",
    "        if cell_id == -1:\n",
    "            continue\n",
    "        folium.GeoJson(\n",
    "            shapely.to_geojson(polygon),\n",
    "            color=\"red\",\n",
    "            tooltip=f\"cell id: {cell_id}\",\n",
    "        ).add_to(m)\n",
    "\n",
    "    return m"
   ]
  },
  {
   "cell_type": "raw",
   "id": "5",
   "metadata": {},
   "source": [
    "n = np.concatenate(\n",
    "    [cell_ids[None, :], hp.get_all_neighbours(2**resolution, cell_ids, nest=True)],\n",
    "    axis=0,\n",
    ").T\n",
    "n"
   ]
  },
  {
   "cell_type": "raw",
   "id": "6",
   "metadata": {},
   "source": [
    "visualize_neighbours(n, resolution, indexing_scheme=\"nested\")"
   ]
  },
  {
   "cell_type": "code",
   "execution_count": null,
   "id": "7",
   "metadata": {},
   "outputs": [],
   "source": [
    "resolution = 1\n",
    "cell_ids = np.array([25], dtype=\"int64\")\n",
    "neighbours = nb.neighbours(\n",
    "    cell_ids, resolution=resolution, indexing_scheme=\"nested\", ring=2\n",
    ")\n",
    "\n",
    "neighbours"
   ]
  },
  {
   "cell_type": "raw",
   "id": "8",
   "metadata": {},
   "source": [
    "df = visualize_cells(cell_ids, resolution=resolution, indexing_scheme=\"nested\")\n",
    "df.explore()"
   ]
  },
  {
   "cell_type": "code",
   "execution_count": null,
   "id": "9",
   "metadata": {},
   "outputs": [],
   "source": [
    "visualize_neighbours(neighbours, resolution, indexing_scheme=\"nested\")"
   ]
  },
  {
   "cell_type": "code",
   "execution_count": null,
   "id": "10",
   "metadata": {},
   "outputs": [],
   "source": [
    "resolution = 2\n",
    "cell_ids = np.arange(12 * 4**resolution, dtype=\"int64\")\n",
    "\n",
    "df = visualize_cells(cell_ids, resolution, indexing_scheme=\"nested\")\n",
    "df.explore()"
   ]
  },
  {
   "cell_type": "code",
   "execution_count": null,
   "id": "11",
   "metadata": {},
   "outputs": [],
   "source": [
    "def visualize_cells(center_cells, neighbours, resolution, indexing_scheme):\n",
    "    flattened = np.reshape(neighbours, -1)\n",
    "    boundary_vecs = boundary_vectors(\n",
    "        2**resolution, indexing_scheme == \"nested\", flattened\n",
    "    )\n",
    "    boundaries = np.stack(vectors_to_geographic(boundary_vecs), axis=-1)\n",
    "    polygons = shapely.polygons(boundaries)\n",
    "\n",
    "    neighbor_id = np.arange(9)\n",
    "    index = pd.MultiIndex.from_product((center_cells, neighbor_id))\n",
    "\n",
    "    df = gpd.GeoDataFrame(index=index, geometry=polygons, crs=4326)\n",
    "    return df\n",
    "\n",
    "\n",
    "resolution = 2\n",
    "cell_ids = np.arange(4**resolution, 2 * 4**resolution)\n",
    "\n",
    "actual = nb.neighbours(cell_ids, resolution=resolution, indexing_scheme=\"nested\")\n",
    "expected_ = hp.get_all_neighbours(2**resolution, cell_ids, nest=True).T\n",
    "expected = np.concatenate([cell_ids[:, None], expected_], axis=1)"
   ]
  },
  {
   "cell_type": "code",
   "execution_count": null,
   "id": "12",
   "metadata": {},
   "outputs": [],
   "source": [
    "index = 2\n",
    "df1 = visualize_cells(cell_ids, actual, resolution, indexing_scheme=\"nested\")\n",
    "df1.loc[4**resolution + index].explore()"
   ]
  },
  {
   "cell_type": "code",
   "execution_count": null,
   "id": "13",
   "metadata": {},
   "outputs": [],
   "source": [
    "df2 = visualize_cells(cell_ids, expected, resolution, indexing_scheme=\"nested\")\n",
    "df2.loc[4**resolution + index].explore()"
   ]
  },
  {
   "cell_type": "code",
   "execution_count": null,
   "id": "14",
   "metadata": {},
   "outputs": [],
   "source": []
  },
  {
   "cell_type": "code",
   "execution_count": null,
   "id": "15",
   "metadata": {},
   "outputs": [],
   "source": []
  },
  {
   "cell_type": "code",
   "execution_count": null,
   "id": "16",
   "metadata": {},
   "outputs": [],
   "source": [
    "resolution = 12\n",
    "cell_ids = np.arange(12 * 4**resolution)\n",
    "ring = 4"
   ]
  },
  {
   "cell_type": "code",
   "execution_count": null,
   "id": "17",
   "metadata": {},
   "outputs": [],
   "source": [
    "cell_ids.nbytes / 1e9"
   ]
  },
  {
   "cell_type": "code",
   "execution_count": null,
   "id": "18",
   "metadata": {},
   "outputs": [],
   "source": [
    "nb.neighbours(cell_ids, resolution=resolution, indexing_scheme=\"nested\", ring=3)"
   ]
  }
 ],
 "metadata": {
  "language_info": {
   "codemirror_mode": {
    "name": "ipython",
    "version": 3
   },
   "file_extension": ".py",
   "mimetype": "text/x-python",
   "name": "python",
   "nbconvert_exporter": "python",
   "pygments_lexer": "ipython3"
  }
 },
 "nbformat": 4,
 "nbformat_minor": 5
}
