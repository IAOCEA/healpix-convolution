{
 "cells": [
  {
   "cell_type": "code",
   "execution_count": null,
   "id": "0",
   "metadata": {},
   "outputs": [],
   "source": [
    "import dask.array as da\n",
    "import numpy as np\n",
    "\n",
    "import healpix_convolution.neighbours as nb"
   ]
  },
  {
   "cell_type": "code",
   "execution_count": null,
   "id": "1",
   "metadata": {},
   "outputs": [],
   "source": [
    "from distributed import Client\n",
    "\n",
    "client = Client()\n",
    "client"
   ]
  },
  {
   "cell_type": "code",
   "execution_count": null,
   "id": "2",
   "metadata": {},
   "outputs": [],
   "source": [
    "resolution = 6\n",
    "cell_ids = da.arange(12 * 4**resolution, chunks=(100000,), dtype=\"int32\")\n",
    "cell_ids"
   ]
  },
  {
   "cell_type": "code",
   "execution_count": null,
   "id": "3",
   "metadata": {},
   "outputs": [],
   "source": [
    "def dask_neighbours(cell_ids, *, resolution, indexing_scheme, ring):\n",
    "    n_neighbours = (2 * ring + 1) ** 2\n",
    "    return da.map_blocks(\n",
    "        nb.neighbours,\n",
    "        cell_ids,\n",
    "        resolution=resolution,\n",
    "        indexing_scheme=indexing_scheme,\n",
    "        ring=ring,\n",
    "        new_axis=1,\n",
    "        chunks=cell_ids.chunks + (n_neighbours,),\n",
    "        dtype=cell_ids.dtype,\n",
    "    )"
   ]
  },
  {
   "cell_type": "code",
   "execution_count": null,
   "id": "4",
   "metadata": {},
   "outputs": [],
   "source": [
    "%%time\n",
    "arr = dask_neighbours(cell_ids, resolution=resolution, indexing_scheme=\"nested\", ring=4)\n",
    "arr"
   ]
  },
  {
   "cell_type": "code",
   "execution_count": null,
   "id": "5",
   "metadata": {},
   "outputs": [],
   "source": [
    "%%time\n",
    "arr.compute()"
   ]
  },
  {
   "cell_type": "code",
   "execution_count": null,
   "id": "6",
   "metadata": {},
   "outputs": [],
   "source": [
    "%%time\n",
    "nb.neighbours(\n",
    "    cell_ids.compute(), resolution=resolution, indexing_scheme=\"nested\", ring=4\n",
    ")"
   ]
  }
 ],
 "metadata": {
  "language_info": {
   "codemirror_mode": {
    "name": "ipython",
    "version": 3
   },
   "file_extension": ".py",
   "mimetype": "text/x-python",
   "name": "python",
   "nbconvert_exporter": "python",
   "pygments_lexer": "ipython3"
  }
 },
 "nbformat": 4,
 "nbformat_minor": 5
}
